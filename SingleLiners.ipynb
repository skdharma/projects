{
  "nbformat": 4,
  "nbformat_minor": 0,
  "metadata": {
    "colab": {
      "name": "SingleLiners.ipynb",
      "provenance": [],
      "collapsed_sections": [],
      "authorship_tag": "ABX9TyN90cD+Zdg+PLQduwBRsjmM",
      "include_colab_link": true
    },
    "kernelspec": {
      "name": "python3",
      "display_name": "Python 3"
    }
  },
  "cells": [
    {
      "cell_type": "markdown",
      "metadata": {
        "id": "view-in-github",
        "colab_type": "text"
      },
      "source": [
        "<a href=\"https://colab.research.google.com/github/skdharma/projects/blob/master/SingleLiners.ipynb\" target=\"_parent\"><img src=\"https://colab.research.google.com/assets/colab-badge.svg\" alt=\"Open In Colab\"/></a>"
      ]
    },
    {
      "cell_type": "code",
      "metadata": {
        "id": "r8OmwZfdYffU",
        "colab_type": "code",
        "colab": {
          "base_uri": "https://localhost:8080/",
          "height": 34
        },
        "outputId": "0466452b-783a-4c16-aada-53dd36c39df2"
      },
      "source": [
        "# Factorial\n",
        "from functools import reduce\n",
        "\n",
        "n = 5\n",
        "x = reduce(lambda x, y: x * y, range(1, n+1))\n",
        "\n",
        "print(x)"
      ],
      "execution_count": 3,
      "outputs": [
        {
          "output_type": "stream",
          "text": [
            "120\n"
          ],
          "name": "stdout"
        }
      ]
    },
    {
      "cell_type": "code",
      "metadata": {
        "id": "QfboQ-FlZvQI",
        "colab_type": "code",
        "colab": {
          "base_uri": "https://localhost:8080/",
          "height": 34
        },
        "outputId": "b304f32f-f9d9-409a-89e6-9e4f5a3985ff"
      },
      "source": [
        "# Fibonacci number\n",
        "fib = lambda x: x if x <=1 else fib(x-1) + fib(x-2)\n",
        "print(fin(10))"
      ],
      "execution_count": 7,
      "outputs": [
        {
          "output_type": "stream",
          "text": [
            "55\n"
          ],
          "name": "stdout"
        }
      ]
    },
    {
      "cell_type": "code",
      "metadata": {
        "id": "ZL3aiwhOfKBb",
        "colab_type": "code",
        "colab": {
          "base_uri": "https://localhost:8080/",
          "height": 34
        },
        "outputId": "71b23937-7bfb-47bc-e37e-c9a6710572da"
      },
      "source": [
        "# Polyndrom\n",
        "\n",
        "string = \"abcdba\"\n",
        "\n",
        "print(string == string[::-1])"
      ],
      "execution_count": 9,
      "outputs": [
        {
          "output_type": "stream",
          "text": [
            "False\n"
          ],
          "name": "stdout"
        }
      ]
    },
    {
      "cell_type": "code",
      "metadata": {
        "id": "iBDnybjafXF5",
        "colab_type": "code",
        "colab": {
          "base_uri": "https://localhost:8080/",
          "height": 34
        },
        "outputId": "e4d2cb9e-c09a-4564-af04-e7adb334335b"
      },
      "source": [
        "# Printing the same element many times using *\n",
        "\n",
        "print(\"&\" *5)"
      ],
      "execution_count": 10,
      "outputs": [
        {
          "output_type": "stream",
          "text": [
            "&&&&&\n"
          ],
          "name": "stdout"
        }
      ]
    },
    {
      "cell_type": "code",
      "metadata": {
        "id": "BtNildb5f2jp",
        "colab_type": "code",
        "colab": {
          "base_uri": "https://localhost:8080/",
          "height": 51
        },
        "outputId": "ced1166d-9c09-439b-91ae-7c27c20ce613"
      },
      "source": [
        "# Use the reverse method to Reverse List\n",
        "ls  = [1,2,3]\n",
        "print(ls)\n",
        "lsr = ls.reverse()\n",
        "print(lsr) ## ????"
      ],
      "execution_count": 16,
      "outputs": [
        {
          "output_type": "stream",
          "text": [
            "[1, 2, 3]\n",
            "None\n"
          ],
          "name": "stdout"
        }
      ]
    },
    {
      "cell_type": "code",
      "metadata": {
        "id": "qehF9ZqkhMTO",
        "colab_type": "code",
        "colab": {
          "base_uri": "https://localhost:8080/",
          "height": 34
        },
        "outputId": "e13edb4f-4089-4085-be4a-52476f372679"
      },
      "source": [
        "# Common elements from 2 lists\n",
        "ls1 = [1,2,3,4,5,6]\n",
        "ls2 = [4,5,6,7,8,9]\n",
        "common = list(filter(lambda x: x in ls1, ls2))\n",
        "print(common)"
      ],
      "execution_count": 17,
      "outputs": [
        {
          "output_type": "stream",
          "text": [
            "[4, 5, 6]\n"
          ],
          "name": "stdout"
        }
      ]
    },
    {
      "cell_type": "code",
      "metadata": {
        "id": "6mifpHAohgUJ",
        "colab_type": "code",
        "colab": {
          "base_uri": "https://localhost:8080/",
          "height": 51
        },
        "outputId": "0c823641-23f6-4556-e11f-5faad2fe076c"
      },
      "source": [
        "# Map method\n",
        "\n",
        "ls1 = [\"1\", \"2\", \"3\"]\n",
        "print(ls1)\n",
        "ls2 = list(map(int, ls1))\n",
        "print(ls2)"
      ],
      "execution_count": 19,
      "outputs": [
        {
          "output_type": "stream",
          "text": [
            "['1', '2', '3']\n",
            "[1, 2, 3]\n"
          ],
          "name": "stdout"
        }
      ]
    },
    {
      "cell_type": "code",
      "metadata": {
        "id": "R8iuVjVdhxk1",
        "colab_type": "code",
        "colab": {
          "base_uri": "https://localhost:8080/",
          "height": 34
        },
        "outputId": "4da40368-5b0e-4f8c-a3ef-7daf86c06b4d"
      },
      "source": [
        "# List comprehension\n",
        "ls1 = [x for x in range(5)]\n",
        "print(ls1)"
      ],
      "execution_count": 21,
      "outputs": [
        {
          "output_type": "stream",
          "text": [
            "[0, 1, 2, 3, 4]\n"
          ],
          "name": "stdout"
        }
      ]
    },
    {
      "cell_type": "code",
      "metadata": {
        "id": "FKaA0u02iBJm",
        "colab_type": "code",
        "colab": {
          "base_uri": "https://localhost:8080/",
          "height": 51
        },
        "outputId": "aa3f70c2-0e2b-416c-c14c-03a1b38faa2a"
      },
      "source": [
        "# Swapping the value of 2 variables\n",
        "a = 10\n",
        "b = 5\n",
        "a, b = b, a\n",
        "print(a)\n",
        "print(b)"
      ],
      "execution_count": 22,
      "outputs": [
        {
          "output_type": "stream",
          "text": [
            "5\n",
            "10\n"
          ],
          "name": "stdout"
        }
      ]
    }
  ]
}